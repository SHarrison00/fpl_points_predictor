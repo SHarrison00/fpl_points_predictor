{
 "cells": [
  {
   "cell_type": "markdown",
   "metadata": {},
   "source": [
    "# Packages"
   ]
  },
  {
   "cell_type": "code",
   "execution_count": null,
   "metadata": {
    "jupyter": {
     "source_hidden": true
    }
   },
   "outputs": [],
   "source": [
    "import pandas as pd\n",
    "\n",
    "# Timing for each cell to run\n",
    "%load_ext autotime\n",
    "# %unload_ext autotime\n",
    "\n",
    "# Warnings & display\n",
    "import warnings\n",
    "warnings.filterwarnings(\"ignore\")\n",
    "pd.set_option(\"display.max_columns\", 60)"
   ]
  },
  {
   "cell_type": "markdown",
   "metadata": {},
   "source": [
    "# Data Cleaning"
   ]
  },
  {
   "cell_type": "markdown",
   "metadata": {},
   "source": [
    "## Read in raw data from local directory"
   ]
  },
  {
   "cell_type": "code",
   "execution_count": null,
   "metadata": {
    "jupyter": {
     "source_hidden": true
    }
   },
   "outputs": [],
   "source": [
    "df_raw_data = pd.read_csv(\"/Users/samharrison/Documents/data_sci/fpl_points_predictor/data/raw_data.csv\")\n",
    "df_raw_data.head(2)"
   ]
  },
  {
   "cell_type": "markdown",
   "metadata": {},
   "source": [
    "## Manipulate DataFrame"
   ]
  },
  {
   "cell_type": "code",
   "execution_count": null,
   "metadata": {
    "jupyter": {
     "source_hidden": true
    }
   },
   "outputs": [],
   "source": [
    "# Drop unnecesary acolumns \n",
    "df = df_raw_data.drop(columns={'FPL_id','Understat_id','team','opponent_team','element_type','value'})\n",
    "\n",
    "# Make home_or_away feature a binary variable\n",
    "df.insert(8, 'home_flag', df['home_or_away'].apply(lambda x: 1 if x == 'H' else 0))\n",
    "df = df.drop(columns={'home_or_away'})\n",
    "\n",
    "# Make binary position variables\n",
    "df.insert(8, 'goalkeeper_flag', df['position'].apply(lambda x: 1 if x == 'goalkeeper' else 0))\n",
    "df.insert(9, 'defender_flag', df['position'].apply(lambda x: 1 if x == 'defender' else 0))\n",
    "df.insert(10, 'midfielder_flag', df['position'].apply(lambda x: 1 if x == 'midfielder' else 0))\n",
    "df.insert(11, 'forward_flag', df['position'].apply(lambda x: 1 if x == 'forward' else 0))\n",
    "\n",
    "# Set index and reorder columns\n",
    "df = df.set_index(['player_name','position','team_title','event','opponent_team_title'])\n",
    "df.insert(2, 'chance_of_playing_this_round', df.pop('chance_of_playing_this_round'))\n",
    "df.insert(3, 'chance_of_playing_next_round', df.pop('chance_of_playing_next_round'))\n",
    "df.insert(47, 'total_points', df.pop('total_points'))\n",
    "\n",
    "# Trim the dataset to look forward only 5 gameweeks into the future\n",
    "prev_gw = df[df['finished']==True].index.get_level_values('event').max()\n",
    "gameweek_range = list(range(0,prev_gw+6))\n",
    "df = df[df.index.get_level_values('event').isin(gameweek_range)]\n",
    "\n",
    "df.loc['Mohamed Salah'].head(2)"
   ]
  },
  {
   "cell_type": "markdown",
   "metadata": {},
   "source": [
    "## Handle null values"
   ]
  },
  {
   "cell_type": "code",
   "execution_count": null,
   "metadata": {
    "jupyter": {
     "source_hidden": true
    }
   },
   "outputs": [],
   "source": [
    "# Remove u = \"unavailable\" players from dataset\n",
    "df = df[df['status']!='u'].drop(columns={'status'})\n",
    "\n",
    "# Remove players/rows where the player hasn't registered any minutes for ease (this will also remove GW1 for all players)\n",
    "df = df[~df['time_season'].isna()]\n",
    "\n",
    "# Replace null values in playing chance columns with 100% \n",
    "df['chance_of_playing_this_round'] = df['chance_of_playing_this_round'].fillna(100)\n",
    "df['chance_of_playing_next_round'] = df['chance_of_playing_next_round'].fillna(100)\n",
    "\n",
    "# Remove rows where it was the opponents team's first game of the season\n",
    "df = df[~df['opponent_xG_season'].isna()]\n",
    " \n",
    "# Check there are no null values remaining\n",
    "if df.drop(columns={'total_points'}).isna().sum().sum() == 0:\n",
    "    print('There are no more remaining null values\\n')\n",
    "else:\n",
    "    print('There exists null values - Investigate\\n')"
   ]
  },
  {
   "cell_type": "markdown",
   "metadata": {},
   "source": [
    "## Transform the  \"_season\" variables\n",
    "Notice, for a given player, our \"_season\" variables get larger every gameweek. This was deliberate. These variables were created to capture the season-long performance of our players. However, by this design, we should probably transform these variables first before modelling with them. Namely, we will transform every \"_season\" variable via. the mapping, \n",
    "\n",
    "<img src=\"img/mapping.png\" />    \n",
    "\n",
    "defined by:\n",
    "\n",
    "<img src=\"img/mapping_def.png\" />    \n",
    "\n",
    "Without this transformation, these variables are very heavily time-dependent which we do not want. In essence, what we are doing here is calculating the \"per gameweek\" rate of each variable. Therefore, we will label these variables using **\"_pgw\"** as our notation."
   ]
  },
  {
   "cell_type": "markdown",
   "metadata": {},
   "source": [
    "<img src=\"img/mapping.png\" />    "
   ]
  },
  {
   "cell_type": "code",
   "execution_count": null,
   "metadata": {
    "jupyter": {
     "source_hidden": true
    }
   },
   "outputs": [],
   "source": [
    "# Define season variables\n",
    "season_variables = ['goals_season','shots_season','xG_season','time_season','xA_season','assists_season',\n",
    "                    'key_passes_season','npg_season','npxG_season','xGChain_season','xGBuildup_season', 'team_xG_season', \n",
    "                    'team_goals_season','team_xGA_season','team_goals_against_season','opponent_xG_season',\n",
    "                    'opponent_goals_season','opponent_xGA_season','opponent_goals_against_season']\n",
    "\n",
    "# Define event (i.e. gameweek) column\n",
    "df['event'] = df.index.get_level_values('event')\n",
    "\n",
    "# For every season variable, transform via. the mapping defined above\n",
    "for var in season_variables:\n",
    "    df[f'{var[:-7]}_pgw'] = df[var]/(df['event']-1)\n",
    "\n",
    "# Drop old season variables\n",
    "df = df.loc[:,~df.columns.isin(season_variables)]\n",
    "df = df.drop(columns={'event'})\n",
    "\n",
    "# Reorder columns\n",
    "print(df.shape)\n",
    "df.insert(46, 'total_points', df.pop('total_points'))\n",
    "df.head(2)"
   ]
  },
  {
   "cell_type": "code",
   "execution_count": null,
   "metadata": {
    "jupyter": {
     "source_hidden": true
    }
   },
   "outputs": [],
   "source": [
    "df.to_csv(index=True, path_or_buf=\"/Users/samharrison/Documents/data_sci/fpl_points_predictor/data/cleaned_data.csv\") "
   ]
  }
 ],
 "metadata": {
  "kernelspec": {
   "display_name": "Python 3",
   "language": "python",
   "name": "python3"
  },
  "language_info": {
   "codemirror_mode": {
    "name": "ipython",
    "version": 3
   },
   "file_extension": ".py",
   "mimetype": "text/x-python",
   "name": "python",
   "nbconvert_exporter": "python",
   "pygments_lexer": "ipython3",
   "version": "3.8.5"
  }
 },
 "nbformat": 4,
 "nbformat_minor": 4
}
